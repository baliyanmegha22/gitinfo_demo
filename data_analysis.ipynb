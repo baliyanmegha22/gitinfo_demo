{
 "cells": [
  {
   "cell_type": "code",
   "execution_count": 1,
   "id": "f00272cb",
   "metadata": {},
   "outputs": [],
   "source": [
    "def addition(num1,num2):\n",
    "    return num1 +num1\n"
   ]
  },
  {
   "cell_type": "code",
   "execution_count": null,
   "id": "74e63bec",
   "metadata": {},
   "outputs": [],
   "source": [
    "def subtract(num1,num2):\n",
    "    return num1 - num2"
   ]
  }
 ],
 "metadata": {
  "kernelspec": {
   "display_name": "Python 3 (ipykernel)",
   "language": "python",
   "name": "python3"
  },
  "language_info": {
   "codemirror_mode": {
    "name": "ipython",
    "version": 3
   },
   "file_extension": ".py",
   "mimetype": "text/x-python",
   "name": "python",
   "nbconvert_exporter": "python",
   "pygments_lexer": "ipython3",
   "version": "3.10.9"
  }
 },
 "nbformat": 4,
 "nbformat_minor": 5
}
